{
 "cells": [
  {
   "cell_type": "code",
   "execution_count": 16,
   "metadata": {},
   "outputs": [
    {
     "name": "stdout",
     "output_type": "stream",
     "text": [
      "\u001b[33mWARNING: Running pip as the 'root' user can result in broken permissions and conflicting behaviour with the system package manager. It is recommended to use a virtual environment instead: https://pip.pypa.io/warnings/venv\u001b[0m\n"
     ]
    }
   ],
   "source": [
    "!pip install -q ja_ginza_electra pandarallel"
   ]
  },
  {
   "cell_type": "code",
   "execution_count": 18,
   "metadata": {},
   "outputs": [
    {
     "name": "stdout",
     "output_type": "stream",
     "text": [
      "INFO: Pandarallel will run on 6 workers.\n",
      "INFO: Pandarallel will use Memory file system to transfer data between the main process and workers.\n"
     ]
    }
   ],
   "source": [
    "# 前処理用\n",
    "import re\n",
    "from tqdm.auto import tqdm\n",
    "tqdm.pandas()\n",
    "import os\n",
    "import pandas as pd\n",
    "import numpy as np\n",
    "import emoji\n",
    "import spacy\n",
    "import re\n",
    "import neologdn\n",
    "import json\n",
    "\n",
    "# 分かち書き用\n",
    "import ginza\n",
    "import ja_ginza_electra\n",
    "from pandarallel import pandarallel # ライブラリー\n",
    "pandarallel.initialize(progress_bar=True)\n",
    "\n",
    "train = pd.read_csv(\"../data/train.csv\").head(100)"
   ]
  },
  {
   "cell_type": "code",
   "execution_count": 19,
   "metadata": {},
   "outputs": [],
   "source": [
    "def wakati_rm_func(x):\n",
    "    nlp = spacy.load('ja_ginza_electra')\n",
    "    sentence = x\n",
    "    \n",
    "    sentence = re.sub(r'[!-~]',\" \",sentence,) # 小文字の記号を削除\n",
    "    sentence=re.sub(r'[︰-＠]', \"\", sentence) # 大文字の記号を削除\n",
    "    # 絵文字削除\n",
    "    sentence = ''.join(['' if c in emoji.UNICODE_EMOJI else c for c in sentence])\n",
    "\n",
    "    # 不要記号削除\n",
    "    pattern = '[!\"#$%&\\'\\\\\\\\()*+,-./:;<=>?@[\\\\]^_`{|}~「」〔〕“”◇ᴗ●↓→♪★⊂⊃※△□◎〈〉『』【】＆＊・（）＄＃＠。、？！｀＋￥％�]'\n",
    "    sentence =  re.sub(pattern, ' ', sentence)\n",
    "\n",
    "    # 正規化する\n",
    "    sentence = neologdn.normalize(sentence)\n",
    " \n",
    "\n",
    "    # 大文字・小文字変換\n",
    "    sentence = sentence.lower()\n",
    "\n",
    "    # GinZaで分かち書きをする\n",
    "    doc = nlp(sentence)\n",
    "    nlp = spacy.load('ja_ginza_electra')\n",
    "    tmp_words_list = []\n",
    "    for sent in doc.sents:\n",
    "        for token in sent:\n",
    "            if token.pos_ in [\"PROPN\",\"NOUN\", \"ADJ\", \"VERB\"]:\n",
    "                tmp_words_list.append(token.orth_)\n",
    "\n",
    "    result = \" \".join(tmp_words_list)\n",
    "    return result"
   ]
  },
  {
   "cell_type": "code",
   "execution_count": 20,
   "metadata": {},
   "outputs": [
    {
     "data": {
      "application/vnd.jupyter.widget-view+json": {
       "model_id": "c1a82112877143968e171c2bf3450fcd",
       "version_major": 2,
       "version_minor": 0
      },
      "text/plain": [
       "  0%|          | 0/100 [00:00<?, ?it/s]"
      ]
     },
     "metadata": {},
     "output_type": "display_data"
    },
    {
     "name": "stderr",
     "output_type": "stream",
     "text": [
      "Cannot find the requested files in the cached path and outgoing traffic has been disabled. To enable model look-ups and downloads online, set 'local_files_only' to False.\n"
     ]
    },
    {
     "data": {
      "application/vnd.jupyter.widget-view+json": {
       "model_id": "08fdaba5d96d458aaf487c67d776a2ea",
       "version_major": 2,
       "version_minor": 0
      },
      "text/plain": [
       "Downloading:   0%|          | 0.00/775 [00:00<?, ?B/s]"
      ]
     },
     "metadata": {},
     "output_type": "display_data"
    },
    {
     "data": {
      "application/vnd.jupyter.widget-view+json": {
       "model_id": "3b393fdbf28d48c7bf4404455e5a84b9",
       "version_major": 2,
       "version_minor": 0
      },
      "text/plain": [
       "Downloading:   0%|          | 0.00/434M [00:00<?, ?B/s]"
      ]
     },
     "metadata": {},
     "output_type": "display_data"
    }
   ],
   "source": [
    "train[\"story\"] = train[\"story\"].progress_apply(wakati_rm_func)"
   ]
  },
  {
   "cell_type": "code",
   "execution_count": null,
   "metadata": {},
   "outputs": [],
   "source": [
    "train"
   ]
  }
 ],
 "metadata": {
  "interpreter": {
   "hash": "949777d72b0d2535278d3dc13498b2535136f6dfe0678499012e853ee9abcab1"
  },
  "kernelspec": {
   "display_name": "Python 3.8.12 64-bit",
   "language": "python",
   "name": "python3"
  },
  "language_info": {
   "codemirror_mode": {
    "name": "ipython",
    "version": 3
   },
   "file_extension": ".py",
   "mimetype": "text/x-python",
   "name": "python",
   "nbconvert_exporter": "python",
   "pygments_lexer": "ipython3",
   "version": "3.8.12"
  },
  "orig_nbformat": 4
 },
 "nbformat": 4,
 "nbformat_minor": 2
}
