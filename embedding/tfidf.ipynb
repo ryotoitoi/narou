{
 "cells": [
  {
   "cell_type": "code",
   "execution_count": 1,
   "metadata": {},
   "outputs": [],
   "source": [
    "import pandas as pd\n",
    "train = pd.read_pickle(\"../data/wakati_train.pkl\")\n",
    "test = pd.read_pickle(\"../data/wakati_test.pkl\")\n",
    "df = pd.concat([train, test])"
   ]
  },
  {
   "cell_type": "code",
   "execution_count": 2,
   "metadata": {},
   "outputs": [
    {
     "data": {
      "text/html": [
       "<div>\n",
       "<style scoped>\n",
       "    .dataframe tbody tr th:only-of-type {\n",
       "        vertical-align: middle;\n",
       "    }\n",
       "\n",
       "    .dataframe tbody tr th {\n",
       "        vertical-align: top;\n",
       "    }\n",
       "\n",
       "    .dataframe thead th {\n",
       "        text-align: right;\n",
       "    }\n",
       "</style>\n",
       "<table border=\"1\" class=\"dataframe\">\n",
       "  <thead>\n",
       "    <tr style=\"text-align: right;\">\n",
       "      <th></th>\n",
       "      <th>ncode</th>\n",
       "      <th>title_wakati</th>\n",
       "      <th>story_wakati</th>\n",
       "      <th>keyword_wakati</th>\n",
       "    </tr>\n",
       "  </thead>\n",
       "  <tbody>\n",
       "    <tr>\n",
       "      <th>0</th>\n",
       "      <td>N7588B</td>\n",
       "      <td>暗い 窓辺 皇帝 北 宮</td>\n",
       "      <td>新しく 手直し 宇宙 開拓 地 入植 農家 子供 小人 生まれる 両親 子 受け入れよう し...</td>\n",
       "      <td>ファンタジー 天使 小人 猫</td>\n",
       "    </tr>\n",
       "    <tr>\n",
       "      <th>1</th>\n",
       "      <td>N8726B</td>\n",
       "      <td>仮想現実 ゲームヴァルハラ</td>\n",
       "      <td>ゲームセンター 片隅 置か 律儀 リアル ゲームヴァルハラ プレイ 重ねる たび たち 魅了...</td>\n",
       "      <td>仮想現実 ゲーム バトル 戦 乙女 高校生 学校 学園 アンドロイドライトエンターテイメント...</td>\n",
       "    </tr>\n",
       "    <tr>\n",
       "      <th>2</th>\n",
       "      <td>N5481C</td>\n",
       "      <td>海 竜騎兵</td>\n",
       "      <td>海軍 中 存在 クジラ 部隊 竜騎兵 主人公 一員 騎乗 鯨 間 結ば 絆 強く 主人公 戦...</td>\n",
       "      <td>ヒーロー 冒険 海軍 深海 海中 戦闘</td>\n",
       "    </tr>\n",
       "    <tr>\n",
       "      <th>3</th>\n",
       "      <td>N6260C</td>\n",
       "      <td>宇宙 狂 時代</td>\n",
       "      <td>はるか 未来 宇宙船 メーカー ペガサス 才 社長 あり 美少女 ある ミリィ 前代未聞 宇...</td>\n",
       "      <td>冒険 ロケットロボットサイボーグレースコメディエンターテイメント 少女 友情 少年 未来 宇宙</td>\n",
       "    </tr>\n",
       "    <tr>\n",
       "      <th>4</th>\n",
       "      <td>N6903C</td>\n",
       "      <td>クライムズクライシス</td>\n",
       "      <td>アメリカ 大富豪 テッド マクシミリアン 心筋 梗塞 患っ あの世 旅立っ 弁護士 開い 遺...</td>\n",
       "      <td>ゲーム フェア 平和 権力 ドキドキシリアスハッピーエンド 国家 民族 友情 サラリーマン ...</td>\n",
       "    </tr>\n",
       "  </tbody>\n",
       "</table>\n",
       "</div>"
      ],
      "text/plain": [
       "    ncode   title_wakati                                       story_wakati  \\\n",
       "0  N7588B   暗い 窓辺 皇帝 北 宮  新しく 手直し 宇宙 開拓 地 入植 農家 子供 小人 生まれる 両親 子 受け入れよう し...   \n",
       "1  N8726B  仮想現実 ゲームヴァルハラ  ゲームセンター 片隅 置か 律儀 リアル ゲームヴァルハラ プレイ 重ねる たび たち 魅了...   \n",
       "2  N5481C          海 竜騎兵  海軍 中 存在 クジラ 部隊 竜騎兵 主人公 一員 騎乗 鯨 間 結ば 絆 強く 主人公 戦...   \n",
       "3  N6260C        宇宙 狂 時代  はるか 未来 宇宙船 メーカー ペガサス 才 社長 あり 美少女 ある ミリィ 前代未聞 宇...   \n",
       "4  N6903C     クライムズクライシス  アメリカ 大富豪 テッド マクシミリアン 心筋 梗塞 患っ あの世 旅立っ 弁護士 開い 遺...   \n",
       "\n",
       "                                      keyword_wakati  \n",
       "0                                     ファンタジー 天使 小人 猫  \n",
       "1  仮想現実 ゲーム バトル 戦 乙女 高校生 学校 学園 アンドロイドライトエンターテイメント...  \n",
       "2                                ヒーロー 冒険 海軍 深海 海中 戦闘  \n",
       "3    冒険 ロケットロボットサイボーグレースコメディエンターテイメント 少女 友情 少年 未来 宇宙  \n",
       "4  ゲーム フェア 平和 権力 ドキドキシリアスハッピーエンド 国家 民族 友情 サラリーマン ...  "
      ]
     },
     "execution_count": 2,
     "metadata": {},
     "output_type": "execute_result"
    }
   ],
   "source": [
    "df.head()"
   ]
  },
  {
   "cell_type": "code",
   "execution_count": 8,
   "metadata": {},
   "outputs": [
    {
     "name": "stdout",
     "output_type": "stream",
     "text": [
      "(48522, 75774)\n"
     ]
    }
   ],
   "source": [
    "# TI-IDFを計算する\n",
    "from sklearn.feature_extraction.text import TfidfVectorizer\n",
    "from sklearn.decomposition import TruncatedSVD\n",
    "\n",
    "text_col = \"story\"\n",
    "\n",
    "model = TfidfVectorizer()\n",
    "wakati_df = model.fit_transform(df[text_col + \"_wakati\"])\n",
    "print(wakati_df.shape)"
   ]
  },
  {
   "cell_type": "code",
   "execution_count": 6,
   "metadata": {},
   "outputs": [
    {
     "name": "stdout",
     "output_type": "stream",
     "text": [
      "(48522, 64)\n"
     ]
    }
   ],
   "source": [
    "# 次元圧縮\n",
    "svd = TruncatedSVD(64)\n",
    "svd.fit(wakati_df)\n",
    "tfidf_svd = svd.transform(wakati_df)\n",
    "print(tfidf_svd.shape)\n",
    "\n",
    "story_tfidf_svd_train = story_tfidf_svd[:40000]\n",
    "story_tfidf_svd_test = story_tfidf_svd[40000:]"
   ]
  },
  {
   "cell_type": "code",
   "execution_count": 7,
   "metadata": {},
   "outputs": [],
   "source": [
    "story_train_df = pd.DataFrame(story_tfidf_svd_train)\n",
    "story_test_df = pd.DataFrame(story_tfidf_svd_test)\n",
    "\n",
    "for col_name in story_train_df.columns:\n",
    "    story_train_df = story_train_df.rename(\n",
    "        columns={col_name: f\"tfidf_story_{col_name}\"})\n",
    "\n",
    "for col_name in story_test_df.columns:\n",
    "    story_test_df = story_test_df.rename(\n",
    "        columns={col_name: f\"tfidf_story_{col_name}\"})"
   ]
  },
  {
   "cell_type": "code",
   "execution_count": 11,
   "metadata": {},
   "outputs": [
    {
     "ename": "FileNotFoundError",
     "evalue": "[Errno 2] No such file or directory: '../tdidf/train_story_tfidf.npy'",
     "output_type": "error",
     "traceback": [
      "\u001b[0;31m---------------------------------------------------------------------------\u001b[0m",
      "\u001b[0;31mFileNotFoundError\u001b[0m                         Traceback (most recent call last)",
      "\u001b[0;32m/tmp/ipykernel_12775/1536945216.py\u001b[0m in \u001b[0;36m<module>\u001b[0;34m\u001b[0m\n\u001b[1;32m      3\u001b[0m \u001b[0mos\u001b[0m\u001b[0;34m.\u001b[0m\u001b[0mmakedirs\u001b[0m\u001b[0;34m(\u001b[0m\u001b[0;34m\"../tfidf\"\u001b[0m\u001b[0;34m,\u001b[0m \u001b[0mexist_ok\u001b[0m\u001b[0;34m=\u001b[0m\u001b[0;32mTrue\u001b[0m\u001b[0;34m)\u001b[0m\u001b[0;34m\u001b[0m\u001b[0;34m\u001b[0m\u001b[0m\n\u001b[1;32m      4\u001b[0m \u001b[0mcol\u001b[0m \u001b[0;34m=\u001b[0m \u001b[0;34m\"story\"\u001b[0m\u001b[0;34m\u001b[0m\u001b[0;34m\u001b[0m\u001b[0m\n\u001b[0;32m----> 5\u001b[0;31m \u001b[0mnp\u001b[0m\u001b[0;34m.\u001b[0m\u001b[0msave\u001b[0m\u001b[0;34m(\u001b[0m\u001b[0;34mf'../tdidf/train_{col}_tfidf'\u001b[0m\u001b[0;34m,\u001b[0m \u001b[0mstory_tfidf_svd_train\u001b[0m\u001b[0;34m)\u001b[0m\u001b[0;34m\u001b[0m\u001b[0;34m\u001b[0m\u001b[0m\n\u001b[0m\u001b[1;32m      6\u001b[0m \u001b[0mnp\u001b[0m\u001b[0;34m.\u001b[0m\u001b[0msave\u001b[0m\u001b[0;34m(\u001b[0m\u001b[0;34mf'../tfidf/test_{col}_tfidf'\u001b[0m\u001b[0;34m,\u001b[0m \u001b[0mstory_tfidf_svd_test\u001b[0m\u001b[0;34m)\u001b[0m\u001b[0;34m\u001b[0m\u001b[0;34m\u001b[0m\u001b[0m\n",
      "\u001b[0;32m<__array_function__ internals>\u001b[0m in \u001b[0;36msave\u001b[0;34m(*args, **kwargs)\u001b[0m\n",
      "\u001b[0;32m/usr/local/lib/python3.8/site-packages/numpy/lib/npyio.py\u001b[0m in \u001b[0;36msave\u001b[0;34m(file, arr, allow_pickle, fix_imports)\u001b[0m\n\u001b[1;32m    523\u001b[0m         \u001b[0;32mif\u001b[0m \u001b[0;32mnot\u001b[0m \u001b[0mfile\u001b[0m\u001b[0;34m.\u001b[0m\u001b[0mendswith\u001b[0m\u001b[0;34m(\u001b[0m\u001b[0;34m'.npy'\u001b[0m\u001b[0;34m)\u001b[0m\u001b[0;34m:\u001b[0m\u001b[0;34m\u001b[0m\u001b[0;34m\u001b[0m\u001b[0m\n\u001b[1;32m    524\u001b[0m             \u001b[0mfile\u001b[0m \u001b[0;34m=\u001b[0m \u001b[0mfile\u001b[0m \u001b[0;34m+\u001b[0m \u001b[0;34m'.npy'\u001b[0m\u001b[0;34m\u001b[0m\u001b[0;34m\u001b[0m\u001b[0m\n\u001b[0;32m--> 525\u001b[0;31m         \u001b[0mfile_ctx\u001b[0m \u001b[0;34m=\u001b[0m \u001b[0mopen\u001b[0m\u001b[0;34m(\u001b[0m\u001b[0mfile\u001b[0m\u001b[0;34m,\u001b[0m \u001b[0;34m\"wb\"\u001b[0m\u001b[0;34m)\u001b[0m\u001b[0;34m\u001b[0m\u001b[0;34m\u001b[0m\u001b[0m\n\u001b[0m\u001b[1;32m    526\u001b[0m \u001b[0;34m\u001b[0m\u001b[0m\n\u001b[1;32m    527\u001b[0m     \u001b[0;32mwith\u001b[0m \u001b[0mfile_ctx\u001b[0m \u001b[0;32mas\u001b[0m \u001b[0mfid\u001b[0m\u001b[0;34m:\u001b[0m\u001b[0;34m\u001b[0m\u001b[0;34m\u001b[0m\u001b[0m\n",
      "\u001b[0;31mFileNotFoundError\u001b[0m: [Errno 2] No such file or directory: '../tdidf/train_story_tfidf.npy'"
     ]
    }
   ],
   "source": []
  },
  {
   "cell_type": "code",
   "execution_count": null,
   "metadata": {},
   "outputs": [],
   "source": []
  },
  {
   "cell_type": "code",
   "execution_count": null,
   "metadata": {},
   "outputs": [],
   "source": []
  },
  {
   "cell_type": "code",
   "execution_count": null,
   "metadata": {},
   "outputs": [],
   "source": []
  },
  {
   "cell_type": "code",
   "execution_count": null,
   "metadata": {},
   "outputs": [],
   "source": []
  }
 ],
 "metadata": {
  "interpreter": {
   "hash": "949777d72b0d2535278d3dc13498b2535136f6dfe0678499012e853ee9abcab1"
  },
  "kernelspec": {
   "display_name": "Python 3.8.12 64-bit",
   "language": "python",
   "name": "python3"
  },
  "language_info": {
   "codemirror_mode": {
    "name": "ipython",
    "version": 3
   },
   "file_extension": ".py",
   "mimetype": "text/x-python",
   "name": "python",
   "nbconvert_exporter": "python",
   "pygments_lexer": "ipython3",
   "version": "3.8.12"
  },
  "orig_nbformat": 4
 },
 "nbformat": 4,
 "nbformat_minor": 2
}
