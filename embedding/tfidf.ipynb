{
 "cells": [
  {
   "cell_type": "code",
   "execution_count": 3,
   "metadata": {},
   "outputs": [],
   "source": [
    "import pandas as pd\n",
    "train = pd.read_pickle(\"../data/wakati_train.pkl\")\n",
    "test = pd.read_pickle(\"../data/wakati_test.pkl\")\n",
    "df = pd.concat([train, test])"
   ]
  },
  {
   "cell_type": "code",
   "execution_count": 4,
   "metadata": {},
   "outputs": [
    {
     "data": {
      "text/html": [
       "<div>\n",
       "<style scoped>\n",
       "    .dataframe tbody tr th:only-of-type {\n",
       "        vertical-align: middle;\n",
       "    }\n",
       "\n",
       "    .dataframe tbody tr th {\n",
       "        vertical-align: top;\n",
       "    }\n",
       "\n",
       "    .dataframe thead th {\n",
       "        text-align: right;\n",
       "    }\n",
       "</style>\n",
       "<table border=\"1\" class=\"dataframe\">\n",
       "  <thead>\n",
       "    <tr style=\"text-align: right;\">\n",
       "      <th></th>\n",
       "      <th>ncode</th>\n",
       "      <th>title_wakati</th>\n",
       "      <th>story_wakati</th>\n",
       "      <th>keyword_wakati</th>\n",
       "    </tr>\n",
       "  </thead>\n",
       "  <tbody>\n",
       "    <tr>\n",
       "      <th>0</th>\n",
       "      <td>N7588B</td>\n",
       "      <td>暗い 窓辺 皇帝 北 宮</td>\n",
       "      <td>新しく 手直し 宇宙 開拓 地 入植 農家 子供 小人 生まれる 両親 子 受け入れよう し...</td>\n",
       "      <td>ファンタジー 天使 小人 猫</td>\n",
       "    </tr>\n",
       "    <tr>\n",
       "      <th>1</th>\n",
       "      <td>N8726B</td>\n",
       "      <td>仮想現実 ゲームヴァルハラ</td>\n",
       "      <td>ゲームセンター 片隅 置か 律儀 リアル ゲームヴァルハラ プレイ 重ねる たび たち 魅了...</td>\n",
       "      <td>仮想現実 ゲーム バトル 戦 乙女 高校生 学校 学園 アンドロイドライトエンターテイメント...</td>\n",
       "    </tr>\n",
       "    <tr>\n",
       "      <th>2</th>\n",
       "      <td>N5481C</td>\n",
       "      <td>海 竜騎兵</td>\n",
       "      <td>海軍 中 存在 クジラ 部隊 竜騎兵 主人公 一員 騎乗 鯨 間 結ば 絆 強く 主人公 戦...</td>\n",
       "      <td>ヒーロー 冒険 海軍 深海 海中 戦闘</td>\n",
       "    </tr>\n",
       "    <tr>\n",
       "      <th>3</th>\n",
       "      <td>N6260C</td>\n",
       "      <td>宇宙 狂 時代</td>\n",
       "      <td>はるか 未来 宇宙船 メーカー ペガサス 才 社長 あり 美少女 ある ミリィ 前代未聞 宇...</td>\n",
       "      <td>冒険 ロケットロボットサイボーグレースコメディエンターテイメント 少女 友情 少年 未来 宇宙</td>\n",
       "    </tr>\n",
       "    <tr>\n",
       "      <th>4</th>\n",
       "      <td>N6903C</td>\n",
       "      <td>クライムズクライシス</td>\n",
       "      <td>アメリカ 大富豪 テッド マクシミリアン 心筋 梗塞 患っ あの世 旅立っ 弁護士 開い 遺...</td>\n",
       "      <td>ゲーム フェア 平和 権力 ドキドキシリアスハッピーエンド 国家 民族 友情 サラリーマン ...</td>\n",
       "    </tr>\n",
       "  </tbody>\n",
       "</table>\n",
       "</div>"
      ],
      "text/plain": [
       "    ncode   title_wakati                                       story_wakati  \\\n",
       "0  N7588B   暗い 窓辺 皇帝 北 宮  新しく 手直し 宇宙 開拓 地 入植 農家 子供 小人 生まれる 両親 子 受け入れよう し...   \n",
       "1  N8726B  仮想現実 ゲームヴァルハラ  ゲームセンター 片隅 置か 律儀 リアル ゲームヴァルハラ プレイ 重ねる たび たち 魅了...   \n",
       "2  N5481C          海 竜騎兵  海軍 中 存在 クジラ 部隊 竜騎兵 主人公 一員 騎乗 鯨 間 結ば 絆 強く 主人公 戦...   \n",
       "3  N6260C        宇宙 狂 時代  はるか 未来 宇宙船 メーカー ペガサス 才 社長 あり 美少女 ある ミリィ 前代未聞 宇...   \n",
       "4  N6903C     クライムズクライシス  アメリカ 大富豪 テッド マクシミリアン 心筋 梗塞 患っ あの世 旅立っ 弁護士 開い 遺...   \n",
       "\n",
       "                                      keyword_wakati  \n",
       "0                                     ファンタジー 天使 小人 猫  \n",
       "1  仮想現実 ゲーム バトル 戦 乙女 高校生 学校 学園 アンドロイドライトエンターテイメント...  \n",
       "2                                ヒーロー 冒険 海軍 深海 海中 戦闘  \n",
       "3    冒険 ロケットロボットサイボーグレースコメディエンターテイメント 少女 友情 少年 未来 宇宙  \n",
       "4  ゲーム フェア 平和 権力 ドキドキシリアスハッピーエンド 国家 民族 友情 サラリーマン ...  "
      ]
     },
     "execution_count": 4,
     "metadata": {},
     "output_type": "execute_result"
    }
   ],
   "source": [
    "df.head()"
   ]
  },
  {
   "cell_type": "code",
   "execution_count": 5,
   "metadata": {},
   "outputs": [],
   "source": [
    "# TI-IDFを計算する\n",
    "from sklearn.feature_extraction.text import TfidfVectorizer\n",
    "from sklearn.decomposition import TruncatedSVD\n",
    "\n",
    "model = TfidfVectorizer()\n",
    "X = model.fit_transform(df[\"story_wakati\"])\n",
    "story_tfidf= pd.DataFrame(data= X.toarray(), columns = model.get_feature_names())\n",
    "print(story_tfidf.shape)\n",
    "# 次元圧縮\n",
    "svd = TruncatedSVD(64)\n",
    "story_tfidf_svd = svd.fit_transform(story_tfidf)\n",
    "print(story_tfidf_svd.shape)"
   ]
  },
  {
   "cell_type": "code",
   "execution_count": null,
   "metadata": {},
   "outputs": [
    {
     "ename": "Error",
     "evalue": "Session cannot generate requests",
     "output_type": "error",
     "traceback": [
      "Error: Session cannot generate requests",
      "at S.executeCodeCell (/root/.vscode-server/extensions/ms-toolsai.jupyter-2021.10.1101450599/out/client/extension.js:66:301742)",
      "at S.execute (/root/.vscode-server/extensions/ms-toolsai.jupyter-2021.10.1101450599/out/client/extension.js:66:300732)",
      "at S.start (/root/.vscode-server/extensions/ms-toolsai.jupyter-2021.10.1101450599/out/client/extension.js:66:296408)",
      "at runMicrotasks (<anonymous>)",
      "at processTicksAndRejections (internal/process/task_queues.js:93:5)",
      "at async t.CellExecutionQueue.executeQueuedCells (/root/.vscode-server/extensions/ms-toolsai.jupyter-2021.10.1101450599/out/client/extension.js:66:312326)",
      "at async t.CellExecutionQueue.start (/root/.vscode-server/extensions/ms-toolsai.jupyter-2021.10.1101450599/out/client/extension.js:66:311862)"
     ]
    }
   ],
   "source": [
    "story_tfidf_train = story_tfidf.iloc[:40000].reset_index(drop=True)\n",
    "print(story_tfidf_train.shape)\n",
    "story_tfidf_test = story_tfidf.iloc[40000:].reset_index(drop=True)\n",
    "print(story_tfidf_test.shape)\n",
    "# 次元圧縮\n",
    "svd = TruncatedSVD(64)\n",
    "title_univ = svd.fit_transform(story_tfidf)"
   ]
  },
  {
   "cell_type": "code",
   "execution_count": null,
   "metadata": {},
   "outputs": [],
   "source": [
    "\n",
    "\n",
    "model = TfidfVectorizer()\n",
    "X = model.fit_transform(train[\"title_wakati\"])\n",
    "title_tfidf_train = pd.DataFrame(data= X.toarray(), columns = model.get_feature_names())\n",
    "\n",
    "model = TfidfVectorizer()\n",
    "X = model.fit_transform(train[\"keyword_wakati\"])\n",
    "keyword_tfidf_train = pd.DataFrame(data= X.toarray(), columns = model.get_feature_names())\n",
    "\n",
    "pd.concat([story_tfidf_train, title_tfidf_train, keyword_tfidf_train]).to_pickle(\"data/train_tfidf.pkl\")\n",
    "\n",
    "model = TfidfVectorizer()\n",
    "X = model.fit_transform(test[\"story_wakati\"])\n",
    "story_tfidf_test = pd.DataFrame(data= X.toarray(), columns = model.get_feature_names())\n",
    "\n",
    "model = TfidfVectorizer()\n",
    "X = model.fit_transform(test[\"title_wakati\"])\n",
    "title_tfidf_test = pd.DataFrame(data= X.toarray(), columns = model.get_feature_names())\n",
    "\n",
    "model = TfidfVectorizer()\n",
    "X = model.fit_transform(test[\"keyword_wakati\"])\n",
    "keyword_tfidf_test = pd.DataFrame(data= X.toarray(), columns = model.get_feature_names())\n",
    "print(story_tfidf_test.shape)\n",
    "pd.concat([story_tfidf_test, title_tfidf_test, keyword_tfidf_test]).to_pickle(\"data/test_tfidf.pkl\")"
   ]
  }
 ],
 "metadata": {
  "interpreter": {
   "hash": "949777d72b0d2535278d3dc13498b2535136f6dfe0678499012e853ee9abcab1"
  },
  "kernelspec": {
   "display_name": "Python 3.8.12 64-bit",
   "language": "python",
   "name": "python3"
  },
  "language_info": {
   "codemirror_mode": {
    "name": "ipython",
    "version": 3
   },
   "file_extension": ".py",
   "mimetype": "text/x-python",
   "name": "python",
   "nbconvert_exporter": "python",
   "pygments_lexer": "ipython3",
   "version": "3.8.12"
  },
  "orig_nbformat": 4
 },
 "nbformat": 4,
 "nbformat_minor": 2
}
