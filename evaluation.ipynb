{
 "cells": [
  {
   "cell_type": "code",
   "execution_count": 2,
   "source": [
    "# ヨンテさん\n",
    "from transformers.models.bert_japanese.tokenization_bert_japanese import BertJapaneseTokenizer\n",
    "from wtfml.data_loaders.nlp.utils import clean_sentence\n",
    "import torch\n",
    "from glob import glob\n",
    "import os\n",
    "from wtfml.engine.nlp.model import BERTBaseClassifier\n",
    "import pandas as pd\n",
    "import numpy as np\n",
    "\n",
    "# オガワ\n",
    "from wtfml.cross_validation.fold_generator import FoldGenerator\n",
    "from wtfml.data_loaders.nlp.classification import BERTSimpleDataset # datasetを変更\n",
    "from wtfml.data_loaders.pl_data_module.data_module import plDataModule\n",
    "from wtfml.engine.nlp.model import BERTBaseClassifier\n",
    "from wtfml.engine.pl_engine.BERT_classification import BERTClassificationPlEngine\n",
    "\n",
    "\n",
    "device = 'cuda:0'\n",
    "tokenizer = BertJapaneseTokenizer.from_pretrained(\n",
    "                    \"cl-tohoku/bert-base-japanese-whole-word-masking\"\n",
    "                )\n",
    "\n",
    "result_list = []\n",
    "result_for_series = []\n",
    "for fold in range(5):\n",
    "    base_folder = \"/home/jupyter/ogawa_prediction/model/2021-08-13/{}/\".format(fold)\n",
    "    model_path = glob(os.path.join(base_folder, \"epoch*\"))[0]\n",
    "    classification_model = BERTBaseClassifier(num_classes = 4)\n",
    "    pl_engine = BERTClassificationPlEngine(model = classification_model)\n",
    "    pl_engine.load_from_checkpoint(model_path, model = classification_model)\n",
    "\n",
    "    validation_df = pd.read_csv(os.path.join(base_folder,\"valid_table.csv\"))\n",
    "\n",
    "    # display(validation_df.head())\n",
    "    cnt = 0\n",
    "    for profile_text_row, target in zip(validation_df[\"description\"], validation_df[\"target\"]):\n",
    "        profile_text = clean_sentence(profile_text_row)\n",
    "\n",
    "        inputs = tokenizer.encode_plus(\n",
    "                profile_text,\n",
    "                None,\n",
    "                add_special_tokens=True,\n",
    "                # max_length=self.max_len,\n",
    "                # padding=\"max_length\",\n",
    "                truncation=True,\n",
    "                # return_tensors=\"pt\"\n",
    "            )\n",
    "\n",
    "        ids = torch.tensor(inputs[\"input_ids\"], dtype=torch.long).to(device).unsqueeze(0)\n",
    "        mask = torch.tensor(inputs[\"attention_mask\"], dtype=torch.long).to(device).unsqueeze(0)\n",
    "        token_type_ids = torch.tensor(inputs[\"token_type_ids\"], dtype=torch.long).to(device).unsqueeze(0)\n",
    "        \n",
    "        pl_engine.to(device).eval()\n",
    "        with torch.no_grad():\n",
    "            prediction =  pl_engine(ids, mask, token_type_ids)\n",
    "        prediction = torch.softmax(prediction, dim = 1).cpu().numpy()\n",
    "        result_list.append([prediction, np.argmax(prediction) , validation_df[\"target\"].tolist()[cnt]])\n",
    "        result_for_series.append(prediction[0])\n",
    "        cnt += 1\n"
   ],
   "outputs": [
    {
     "output_type": "stream",
     "name": "stderr",
     "text": [
      "Some weights of the model checkpoint at cl-tohoku/bert-base-japanese-whole-word-masking were not used when initializing BertModel: ['cls.predictions.bias', 'cls.predictions.transform.LayerNorm.weight', 'cls.predictions.transform.LayerNorm.bias', 'cls.seq_relationship.bias', 'cls.seq_relationship.weight', 'cls.predictions.transform.dense.weight', 'cls.predictions.decoder.weight', 'cls.predictions.transform.dense.bias']\n",
      "- This IS expected if you are initializing BertModel from the checkpoint of a model trained on another task or with another architecture (e.g. initializing a BertForSequenceClassification model from a BertForPreTraining model).\n",
      "- This IS NOT expected if you are initializing BertModel from the checkpoint of a model that you expect to be exactly identical (initializing a BertForSequenceClassification model from a BertForSequenceClassification model).\n",
      "Some weights of the model checkpoint at cl-tohoku/bert-base-japanese-whole-word-masking were not used when initializing BertModel: ['cls.predictions.bias', 'cls.predictions.transform.LayerNorm.weight', 'cls.predictions.transform.LayerNorm.bias', 'cls.seq_relationship.bias', 'cls.seq_relationship.weight', 'cls.predictions.transform.dense.weight', 'cls.predictions.decoder.weight', 'cls.predictions.transform.dense.bias']\n",
      "- This IS expected if you are initializing BertModel from the checkpoint of a model trained on another task or with another architecture (e.g. initializing a BertForSequenceClassification model from a BertForPreTraining model).\n",
      "- This IS NOT expected if you are initializing BertModel from the checkpoint of a model that you expect to be exactly identical (initializing a BertForSequenceClassification model from a BertForSequenceClassification model).\n",
      "Some weights of the model checkpoint at cl-tohoku/bert-base-japanese-whole-word-masking were not used when initializing BertModel: ['cls.predictions.bias', 'cls.predictions.transform.LayerNorm.weight', 'cls.predictions.transform.LayerNorm.bias', 'cls.seq_relationship.bias', 'cls.seq_relationship.weight', 'cls.predictions.transform.dense.weight', 'cls.predictions.decoder.weight', 'cls.predictions.transform.dense.bias']\n",
      "- This IS expected if you are initializing BertModel from the checkpoint of a model trained on another task or with another architecture (e.g. initializing a BertForSequenceClassification model from a BertForPreTraining model).\n",
      "- This IS NOT expected if you are initializing BertModel from the checkpoint of a model that you expect to be exactly identical (initializing a BertForSequenceClassification model from a BertForSequenceClassification model).\n",
      "Some weights of the model checkpoint at cl-tohoku/bert-base-japanese-whole-word-masking were not used when initializing BertModel: ['cls.predictions.bias', 'cls.predictions.transform.LayerNorm.weight', 'cls.predictions.transform.LayerNorm.bias', 'cls.seq_relationship.bias', 'cls.seq_relationship.weight', 'cls.predictions.transform.dense.weight', 'cls.predictions.decoder.weight', 'cls.predictions.transform.dense.bias']\n",
      "- This IS expected if you are initializing BertModel from the checkpoint of a model trained on another task or with another architecture (e.g. initializing a BertForSequenceClassification model from a BertForPreTraining model).\n",
      "- This IS NOT expected if you are initializing BertModel from the checkpoint of a model that you expect to be exactly identical (initializing a BertForSequenceClassification model from a BertForSequenceClassification model).\n",
      "Some weights of the model checkpoint at cl-tohoku/bert-base-japanese-whole-word-masking were not used when initializing BertModel: ['cls.predictions.bias', 'cls.predictions.transform.LayerNorm.weight', 'cls.predictions.transform.LayerNorm.bias', 'cls.seq_relationship.bias', 'cls.seq_relationship.weight', 'cls.predictions.transform.dense.weight', 'cls.predictions.decoder.weight', 'cls.predictions.transform.dense.bias']\n",
      "- This IS expected if you are initializing BertModel from the checkpoint of a model trained on another task or with another architecture (e.g. initializing a BertForSequenceClassification model from a BertForPreTraining model).\n",
      "- This IS NOT expected if you are initializing BertModel from the checkpoint of a model that you expect to be exactly identical (initializing a BertForSequenceClassification model from a BertForSequenceClassification model).\n"
     ]
    }
   ],
   "metadata": {}
  },
  {
   "cell_type": "code",
   "execution_count": 6,
   "source": [
    "# create dataframe for confusion_matrix\n",
    "res_df = pd.DataFrame(result_list)\n",
    "res_df = pd.DataFrame(res_df).iloc[:,0]\n",
    "total_df = pd.DataFrame([row[0] for row in res_df])\n",
    "total_df[\"target\"] = pd.DataFrame(result_list).iloc[:,2]\n",
    "total_df"
   ],
   "outputs": [
    {
     "output_type": "execute_result",
     "data": {
      "text/plain": [
       "             0         1         2         3  target\n",
       "0     0.899096  0.081366  0.011146  0.008392       0\n",
       "1     0.460776  0.331773  0.056786  0.150665       0\n",
       "2     0.052037  0.065269  0.501430  0.381264       3\n",
       "3     0.832494  0.152619  0.007105  0.007781       0\n",
       "4     0.056939  0.161098  0.132210  0.649753       3\n",
       "...        ...       ...       ...       ...     ...\n",
       "4646  0.003952  0.007311  0.973174  0.015563       2\n",
       "4647  0.004876  0.009586  0.971467  0.014071       2\n",
       "4648  0.011545  0.017065  0.958108  0.013283       2\n",
       "4649  0.004309  0.007876  0.973773  0.014042       2\n",
       "4650  0.003562  0.007401  0.974837  0.014199       2\n",
       "\n",
       "[4651 rows x 5 columns]"
      ],
      "text/html": [
       "<div>\n",
       "<style scoped>\n",
       "    .dataframe tbody tr th:only-of-type {\n",
       "        vertical-align: middle;\n",
       "    }\n",
       "\n",
       "    .dataframe tbody tr th {\n",
       "        vertical-align: top;\n",
       "    }\n",
       "\n",
       "    .dataframe thead th {\n",
       "        text-align: right;\n",
       "    }\n",
       "</style>\n",
       "<table border=\"1\" class=\"dataframe\">\n",
       "  <thead>\n",
       "    <tr style=\"text-align: right;\">\n",
       "      <th></th>\n",
       "      <th>0</th>\n",
       "      <th>1</th>\n",
       "      <th>2</th>\n",
       "      <th>3</th>\n",
       "      <th>target</th>\n",
       "    </tr>\n",
       "  </thead>\n",
       "  <tbody>\n",
       "    <tr>\n",
       "      <th>0</th>\n",
       "      <td>0.899096</td>\n",
       "      <td>0.081366</td>\n",
       "      <td>0.011146</td>\n",
       "      <td>0.008392</td>\n",
       "      <td>0</td>\n",
       "    </tr>\n",
       "    <tr>\n",
       "      <th>1</th>\n",
       "      <td>0.460776</td>\n",
       "      <td>0.331773</td>\n",
       "      <td>0.056786</td>\n",
       "      <td>0.150665</td>\n",
       "      <td>0</td>\n",
       "    </tr>\n",
       "    <tr>\n",
       "      <th>2</th>\n",
       "      <td>0.052037</td>\n",
       "      <td>0.065269</td>\n",
       "      <td>0.501430</td>\n",
       "      <td>0.381264</td>\n",
       "      <td>3</td>\n",
       "    </tr>\n",
       "    <tr>\n",
       "      <th>3</th>\n",
       "      <td>0.832494</td>\n",
       "      <td>0.152619</td>\n",
       "      <td>0.007105</td>\n",
       "      <td>0.007781</td>\n",
       "      <td>0</td>\n",
       "    </tr>\n",
       "    <tr>\n",
       "      <th>4</th>\n",
       "      <td>0.056939</td>\n",
       "      <td>0.161098</td>\n",
       "      <td>0.132210</td>\n",
       "      <td>0.649753</td>\n",
       "      <td>3</td>\n",
       "    </tr>\n",
       "    <tr>\n",
       "      <th>...</th>\n",
       "      <td>...</td>\n",
       "      <td>...</td>\n",
       "      <td>...</td>\n",
       "      <td>...</td>\n",
       "      <td>...</td>\n",
       "    </tr>\n",
       "    <tr>\n",
       "      <th>4646</th>\n",
       "      <td>0.003952</td>\n",
       "      <td>0.007311</td>\n",
       "      <td>0.973174</td>\n",
       "      <td>0.015563</td>\n",
       "      <td>2</td>\n",
       "    </tr>\n",
       "    <tr>\n",
       "      <th>4647</th>\n",
       "      <td>0.004876</td>\n",
       "      <td>0.009586</td>\n",
       "      <td>0.971467</td>\n",
       "      <td>0.014071</td>\n",
       "      <td>2</td>\n",
       "    </tr>\n",
       "    <tr>\n",
       "      <th>4648</th>\n",
       "      <td>0.011545</td>\n",
       "      <td>0.017065</td>\n",
       "      <td>0.958108</td>\n",
       "      <td>0.013283</td>\n",
       "      <td>2</td>\n",
       "    </tr>\n",
       "    <tr>\n",
       "      <th>4649</th>\n",
       "      <td>0.004309</td>\n",
       "      <td>0.007876</td>\n",
       "      <td>0.973773</td>\n",
       "      <td>0.014042</td>\n",
       "      <td>2</td>\n",
       "    </tr>\n",
       "    <tr>\n",
       "      <th>4650</th>\n",
       "      <td>0.003562</td>\n",
       "      <td>0.007401</td>\n",
       "      <td>0.974837</td>\n",
       "      <td>0.014199</td>\n",
       "      <td>2</td>\n",
       "    </tr>\n",
       "  </tbody>\n",
       "</table>\n",
       "<p>4651 rows × 5 columns</p>\n",
       "</div>"
      ]
     },
     "metadata": {},
     "execution_count": 6
    }
   ],
   "metadata": {}
  },
  {
   "cell_type": "markdown",
   "source": [
    "## 4クラスで混合行列\n",
    "- 既婚（子供あり）： 0\n",
    "- 既婚（子供不明）: 1\n",
    "- 未婚（恋人あり）: 2\n",
    "- 未婚（恋人不明）: 3"
   ],
   "metadata": {}
  },
  {
   "cell_type": "code",
   "execution_count": 15,
   "source": [
    "# 4クラスで混合行列\n",
    "from sklearn.metrics import confusion_matrix, plot_confusion_matrix, accuracy_score, classification_report\n",
    "from matplotlib import pyplot as plt\n",
    "import japanize_matplotlib\n",
    "import seaborn as sns\n",
    "\n",
    "threshold = .0\n",
    "\n",
    "\n",
    "labels_for_plot = [0, 1, 2, 3]\n",
    "print(labels_for_plot)\n",
    "def print_cmx(y_true, y_pred):\n",
    "    labels = sorted(list(set(y_true)))\n",
    "    cmx_data = confusion_matrix(y_true, y_pred, labels=labels)\n",
    "    \n",
    "    df_cmx = pd.DataFrame(cmx_data, index=labels_for_plot, columns=labels_for_plot)\n",
    "    print(labels)\n",
    "\n",
    "    plt.figure(figsize = (10,7))\n",
    "    sns.heatmap(df_cmx, annot=True,vmin=0,vmax = 1200, cmap=\"Blues\", fmt=\"d\")\n",
    "    plt.title(\"threshold = {}\".format(threshold))\n",
    "    plt.show()\n",
    "    return df_cmx\n",
    "\n",
    "def softmax(x):\n",
    "    u = np.sum(np.exp(x))\n",
    "    return np.exp(x)/u\n",
    "\n",
    "prediction = []\n",
    "target = []\n",
    "\n",
    "for i,result_df in total_df.iterrows():\n",
    "    result = result_df[[0,1,2,3]].values\n",
    "    _target = result_df[\"target\"]\n",
    "\n",
    "    if np.max(result) >threshold:\n",
    "        prediction.append(np.argmax(result))\n",
    "        target.append(_target)\n",
    "\n",
    "confudion_metrix = print_cmx(target, prediction)\n",
    "print(confudion_metrix)\n",
    "acc = classification_report(target, prediction)\n",
    "print(acc)\n",
    "\n",
    "print(len(target)/total_df.shape[0])"
   ],
   "outputs": [
    {
     "output_type": "stream",
     "name": "stdout",
     "text": [
      "[0, 1, 2, 3]\n",
      "[0.0, 1.0, 2.0, 3.0]\n"
     ]
    },
    {
     "output_type": "display_data",
     "data": {
      "text/plain": [
       "<Figure size 720x504 with 2 Axes>"
      ],
      "image/png": "[encoded data removed]"
     },
     "metadata": {
      "needs_background": "light"
     }
    },
    {
     "output_type": "stream",
     "name": "stdout",
     "text": [
      "     0    1    2    3\n",
      "0  784  267   37   92\n",
      "1  262  710   35  161\n",
      "2   62   53  816  229\n",
      "3   74  133  201  735\n",
      "              precision    recall  f1-score   support\n",
      "\n",
      "         0.0       0.66      0.66      0.66      1180\n",
      "         1.0       0.61      0.61      0.61      1168\n",
      "         2.0       0.75      0.70      0.73      1160\n",
      "         3.0       0.60      0.64      0.62      1143\n",
      "\n",
      "    accuracy                           0.65      4651\n",
      "   macro avg       0.66      0.65      0.66      4651\n",
      "weighted avg       0.66      0.65      0.66      4651\n",
      "\n",
      "1.0\n"
     ]
    }
   ],
   "metadata": {}
  },
  {
   "cell_type": "markdown",
   "source": [
    "## 2クラスで混合行列\n",
    "- 既婚： 0\n",
    "- 未婚: 1"
   ],
   "metadata": {}
  },
  {
   "cell_type": "code",
   "execution_count": 16,
   "source": [
    "# 2値分類での混合行列\n",
    "from sklearn.metrics import confusion_matrix, plot_confusion_matrix, accuracy_score, classification_report\n",
    "from matplotlib import pyplot as plt\n",
    "import japanize_matplotlib\n",
    "import seaborn as sns\n",
    "\n",
    "threshold = .0\n",
    "\n",
    "labels_for_plot = [0, 1]\n",
    "print(labels_for_plot)\n",
    "def print_cmx(y_true, y_pred):\n",
    "    labels = sorted(list(set(y_true)))\n",
    "    cmx_data = confusion_matrix(y_true, y_pred, labels=labels)\n",
    "    \n",
    "    df_cmx = pd.DataFrame(cmx_data, index=labels_for_plot, columns=labels_for_plot)\n",
    "    print(labels)\n",
    "\n",
    "    plt.figure(figsize = (10,7))\n",
    "    sns.heatmap(df_cmx, annot=True,vmin=0,vmax = 2400, cmap=\"Blues\", fmt=\"d\")\n",
    "    plt.title(\"threshold = {}\".format(threshold))\n",
    "    plt.show()\n",
    "    return df_cmx\n",
    "\n",
    "def softmax(x):\n",
    "    u = np.sum(np.exp(x))\n",
    "    return np.exp(x)/u\n",
    "\n",
    "prediction = []\n",
    "target = []\n",
    "\n",
    "for i,result_df in total_df.iterrows():\n",
    "    result = result_df[[0,1,2,3]].values\n",
    "    _target = result_df[\"target\"]\n",
    "\n",
    "    if np.max(result) >threshold:\n",
    "      if (np.argmax(result) == 0 or np.argmax(result) == 1) and (_target == 0 or _target == 1):\n",
    "        prediction.append(0)\n",
    "        target.append(0)\n",
    "      elif (np.argmax(result) == 0 or np.argmax(result) == 1) and (_target == 2 or _target == 3):\n",
    "        prediction.append(0)\n",
    "        target.append(1)\n",
    "      elif (np.argmax(result) == 2 or np.argmax(result) == 3) and (_target == 0 or _target == 1):\n",
    "        prediction.append(1)\n",
    "        target.append(0)\n",
    "      elif (np.argmax(result) == 2 or np.argmax(result) == 3) and (_target == 2 or _target == 3):\n",
    "        prediction.append(1)\n",
    "        target.append(1)\n"
   ],
   "outputs": [
    {
     "output_type": "stream",
     "name": "stdout",
     "text": [
      "[0, 1]\n"
     ]
    }
   ],
   "metadata": {}
  },
  {
   "cell_type": "code",
   "execution_count": 17,
   "source": [
    "confudion_metrix = print_cmx(target, prediction)\n",
    "print(confudion_metrix)\n",
    "acc = classification_report(target, prediction)\n",
    "print(acc)\n",
    "\n",
    "print(len(target)/total_df.shape[0])"
   ],
   "outputs": [
    {
     "output_type": "stream",
     "name": "stdout",
     "text": [
      "[0, 1]\n"
     ]
    },
    {
     "output_type": "display_data",
     "data": {
      "text/plain": [
       "<Figure size 720x504 with 2 Axes>"
      ],
      "image/png": "[encoded data removed]"
     },
     "metadata": {
      "needs_background": "light"
     }
    },
    {
     "output_type": "stream",
     "name": "stdout",
     "text": [
      "      0     1\n",
      "0  2023   325\n",
      "1   322  1981\n",
      "              precision    recall  f1-score   support\n",
      "\n",
      "           0       0.86      0.86      0.86      2348\n",
      "           1       0.86      0.86      0.86      2303\n",
      "\n",
      "    accuracy                           0.86      4651\n",
      "   macro avg       0.86      0.86      0.86      4651\n",
      "weighted avg       0.86      0.86      0.86      4651\n",
      "\n",
      "1.0\n"
     ]
    }
   ],
   "metadata": {}
  },
  {
   "cell_type": "code",
   "execution_count": 14,
   "source": [
    "%load_ext tensorboard\n",
    "%tensorboard --logdir /home/jupyter/ogawa_prediction/model/2021-08-13/logs/default"
   ],
   "outputs": [
    {
     "output_type": "stream",
     "name": "stdout",
     "text": [
      "The tensorboard extension is already loaded. To reload it, use:\n",
      "  %reload_ext tensorboard\n"
     ]
    },
    {
     "output_type": "display_data",
     "data": {
      "text/plain": [
       "ERROR: Could not find `tensorboard`. Please ensure that your PATH\n",
       "contains an executable `tensorboard` program, or explicitly specify\n",
       "the path to a TensorBoard binary by setting the `TENSORBOARD_BINARY`\n",
       "environment variable."
      ]
     },
     "metadata": {}
    }
   ],
   "metadata": {}
  },
  {
   "cell_type": "code",
   "execution_count": null,
   "source": [],
   "outputs": [],
   "metadata": {}
  }
 ],
 "metadata": {
  "environment": {
   "name": "common-cu110.m76",
   "type": "gcloud",
   "uri": "gcr.io/deeplearning-platform-release/base-cu110:m76"
  },
  "kernelspec": {
   "display_name": "ogawa_env",
   "language": "python",
   "name": "ogawa_env"
  },
  "language_info": {
   "codemirror_mode": {
    "name": "ipython",
    "version": 3
   },
   "file_extension": ".py",
   "mimetype": "text/x-python",
   "name": "python",
   "nbconvert_exporter": "python",
   "pygments_lexer": "ipython3",
   "version": "3.7.10"
  }
 },
 "nbformat": 4,
 "nbformat_minor": 5
}