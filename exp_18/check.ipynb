{
 "cells": [
  {
   "cell_type": "code",
   "execution_count": 5,
   "metadata": {},
   "outputs": [],
   "source": [
    "import pandas as pd\n",
    "import numpy as np\n",
    "exp_num = \"exp_18\"\n",
    "df_train = pd.read_pickle(f'./data/train.pkl')\n",
    "df_test = pd.read_pickle(f'./data/test.pkl')\n",
    "sub_df = pd.read_csv('../data/sample_submission.csv')\n",
    "X = df_train.drop(columns=\"fav_novel_cnt_bin\")\n",
    "y = df_train[[\"fav_novel_cnt_bin\"]]\n"
   ]
  },
  {
   "cell_type": "code",
   "execution_count": 11,
   "metadata": {},
   "outputs": [],
   "source": [
    "cat_cols = np.where((X.dtypes != np.float32) & (X.dtypes != np.float64))[0]"
   ]
  },
  {
   "cell_type": "code",
   "execution_count": 13,
   "metadata": {},
   "outputs": [
    {
     "data": {
      "text/plain": [
       "['biggenre',\n",
       " 'genre',\n",
       " 'novel_type',\n",
       " 'istensei',\n",
       " 'ncode_num',\n",
       " 'story_length',\n",
       " 'title_length',\n",
       " 'userid_le',\n",
       " 'writer_le',\n",
       " 'genre_le',\n",
       " 'userid_ce',\n",
       " 'writer_ce',\n",
       " 'genre_ce']"
      ]
     },
     "execution_count": 13,
     "metadata": {},
     "output_type": "execute_result"
    }
   ],
   "source": [
    "list(X.columns[cat_cols])"
   ]
  },
  {
   "cell_type": "code",
   "execution_count": null,
   "metadata": {},
   "outputs": [],
   "source": []
  }
 ],
 "metadata": {
  "interpreter": {
   "hash": "949777d72b0d2535278d3dc13498b2535136f6dfe0678499012e853ee9abcab1"
  },
  "kernelspec": {
   "display_name": "Python 3.8.12 64-bit",
   "language": "python",
   "name": "python3"
  },
  "language_info": {
   "codemirror_mode": {
    "name": "ipython",
    "version": 3
   },
   "file_extension": ".py",
   "mimetype": "text/x-python",
   "name": "python",
   "nbconvert_exporter": "python",
   "pygments_lexer": "ipython3",
   "version": "3.8.12"
  },
  "orig_nbformat": 4
 },
 "nbformat": 4,
 "nbformat_minor": 2
}
