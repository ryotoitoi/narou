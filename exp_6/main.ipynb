{
 "cells": [
  {
   "cell_type": "code",
   "execution_count": 10,
   "metadata": {},
   "outputs": [
    {
     "data": {
      "text/html": [
       "Finishing last run (ID:1oqciwaf) before initializing another..."
      ],
      "text/plain": [
       "<IPython.core.display.HTML object>"
      ]
     },
     "metadata": {},
     "output_type": "display_data"
    },
    {
     "data": {
      "text/html": [
       "<br/>Waiting for W&B process to finish, PID 21780... <strong style=\"color:green\">(success).</strong>"
      ],
      "text/plain": [
       "<IPython.core.display.HTML object>"
      ]
     },
     "metadata": {},
     "output_type": "display_data"
    },
    {
     "data": {
      "application/vnd.jupyter.widget-view+json": {
       "model_id": "5b7e4690af724597a57ce6c8be0ca237",
       "version_major": 2,
       "version_minor": 0
      },
      "text/plain": [
       "VBox(children=(Label(value=' 0.00MB of 0.00MB uploaded (0.00MB deduped)\\r'), FloatProgress(value=1.0, max=1.0)…"
      ]
     },
     "metadata": {},
     "output_type": "display_data"
    },
    {
     "data": {
      "text/html": [
       "<style>\n",
       "    table.wandb td:nth-child(1) { padding: 0 10px; text-align: right }\n",
       "    .wandb-row { display: flex; flex-direction: row; flex-wrap: wrap; width: 100% }\n",
       "    .wandb-col { display: flex; flex-direction: column; flex-basis: 100%; flex: 1; padding: 10px; }\n",
       "    </style>\n",
       "<div class=\"wandb-row\"><div class=\"wandb-col\">\n",
       "<h3>Run history:</h3><br/><table class=\"wandb\"><tr><td>train_multi_logloss</td><td>█▇▆▆▅▅▅▄▄▄▄▄▃▃▃▃▃▃▃▃▂▂▂▂▂▂▂▂▂▂▂▂▁▁▁▁▁▁▁▁</td></tr><tr><td>valid_multi_logloss</td><td>█▆▅▄▃▃▂▂▂▂▂▂▁▁▁▁▁▁▁▁▁▁▁▁▁▁▁▁▁▁▁▁▁▁▁▁▁▁▁▁</td></tr></table><br/></div><div class=\"wandb-col\">\n",
       "<h3>Run summary:</h3><br/><table class=\"wandb\"><tr><td>train_multi_logloss</td><td>0.3277</td></tr><tr><td>valid_multi_logloss</td><td>0.79775</td></tr></table>\n",
       "</div></div>\n",
       "Synced 5 W&B file(s), 0 media file(s), 0 artifact file(s) and 0 other file(s)\n",
       "<br/>Synced <strong style=\"color:#cdcd00\">exp_6_narou</strong>: <a href=\"https://wandb.ai/ryotoitoi/narou/runs/1oqciwaf\" target=\"_blank\">https://wandb.ai/ryotoitoi/narou/runs/1oqciwaf</a><br/>\n",
       "Find logs at: <code>./wandb/run-20211119_164823-1oqciwaf/logs</code><br/>\n"
      ],
      "text/plain": [
       "<IPython.core.display.HTML object>"
      ]
     },
     "metadata": {},
     "output_type": "display_data"
    },
    {
     "data": {
      "text/html": [
       "Successfully finished last run (ID:1oqciwaf). Initializing new run:<br/>"
      ],
      "text/plain": [
       "<IPython.core.display.HTML object>"
      ]
     },
     "metadata": {},
     "output_type": "display_data"
    },
    {
     "data": {
      "text/html": [
       "\n",
       "                    Syncing run <strong><a href=\"https://wandb.ai/ryotoitoi/narou/runs/1xbh93xa\" target=\"_blank\">exp_6_narou</a></strong> to <a href=\"https://wandb.ai/ryotoitoi/narou\" target=\"_blank\">Weights & Biases</a> (<a href=\"https://docs.wandb.com/integrations/jupyter.html\" target=\"_blank\">docs</a>).<br/>\n",
       "\n",
       "                "
      ],
      "text/plain": [
       "<IPython.core.display.HTML object>"
      ]
     },
     "metadata": {},
     "output_type": "display_data"
    },
    {
     "name": "stdout",
     "output_type": "stream",
     "text": [
      "start training\n"
     ]
    },
    {
     "name": "stderr",
     "output_type": "stream",
     "text": [
      "/usr/local/lib/python3.8/site-packages/lightgbm/basic.py:2068: UserWarning: categorical_feature in Dataset is overridden.\n",
      "New categorical_feature is ['biggenre', 'end', 'genre', 'isbl', 'isgl', 'isr15', 'isstop', 'istenni', 'istensei', 'iszankoku', 'ncode_num', 'novel_type', 'pc_or_k', 'userid']\n",
      "  _log_warning('categorical_feature in Dataset is overridden.\\n'\n",
      "/usr/local/lib/python3.8/site-packages/lightgbm/basic.py:1780: UserWarning: Overriding the parameters from Reference Dataset.\n",
      "  _log_warning('Overriding the parameters from Reference Dataset.')\n",
      "/usr/local/lib/python3.8/site-packages/lightgbm/basic.py:1513: UserWarning: categorical_column in param dict is overridden.\n",
      "  _log_warning(f'{cat_alias} in param dict is overridden.')\n"
     ]
    },
    {
     "name": "stdout",
     "output_type": "stream",
     "text": [
      "Training until validation scores don't improve for 30 rounds\n",
      "[30]\ttrain's multi_logloss: 0.568122\tvalid's multi_logloss: 0.820637\n",
      "[60]\ttrain's multi_logloss: 0.417903\tvalid's multi_logloss: 0.808743\n",
      "Early stopping, best iteration is:\n",
      "[55]\ttrain's multi_logloss: 0.437198\tvalid's multi_logloss: 0.808255\n"
     ]
    }
   ],
   "source": [
    "import pandas as pd\n",
    "import numpy as np\n",
    "import re\n",
    "from glob import glob\n",
    "from tqdm import tqdm\n",
    "import optuna\n",
    "# import optuna.integration.lightgbm as lgb\n",
    "import lightgbm as lgb\n",
    "\n",
    "from lightgbm import early_stopping\n",
    "from lightgbm import log_evaluation\n",
    "\n",
    "from sklearn.model_selection import train_test_split\n",
    "from wandb.lightgbm import wandb_callback\n",
    "import wandb\n",
    "\n",
    "from preprocessing import preprocessing\n",
    "\n",
    "from tqdm.auto import tqdm\n",
    "tqdm.pandas()\n",
    "\n",
    "wandb.init(project=\"narou\", entity=\"ryotoitoi\", name = \"exp_6_narou\")\n",
    "\n",
    "### ファイル読み込み・データ確認\n",
    "\n",
    "df_train = pd.read_pickle('./data/train.pkl')\n",
    "df_test = pd.read_pickle('./data/test.pkl')\n",
    "sub_df = pd.read_csv('../data/sample_submission.csv')\n",
    "train_x = df_train.drop(columns=\"fav_novel_cnt_bin\")\n",
    "train_y = df_train[[\"fav_novel_cnt_bin\"]]\n",
    "\n",
    "train_x, val_x, train_y, val_y = train_test_split(train_x, train_y, test_size = 0.2)\n",
    "params = {\n",
    "    'objective': 'multiclass',\n",
    "    'num_classes': 5,\n",
    "    \"verbosity\": -1,\n",
    "    'metric': 'multi_logloss',\n",
    "    \"seed\": 42\n",
    "}\n",
    "\n",
    "train_data = lgb.Dataset(train_x, label=train_y)\n",
    "val_data = lgb.Dataset(val_x, label=val_y)\n",
    "\n",
    "cat_cols = [\"ncode_num\", \"userid\", 'biggenre', 'genre', 'novel_type', 'end', 'isstop', 'isr15', 'isbl', 'isgl', 'iszankoku', 'istensei', 'istenni', 'pc_or_k']\n",
    "\n",
    "print(\"start training\")\n",
    "model = lgb.train(\n",
    "    params,\n",
    "    train_data, \n",
    "    categorical_feature = cat_cols,\n",
    "    valid_names = ['train', 'valid'],\n",
    "    valid_sets =[train_data, val_data], \n",
    "    callbacks=[wandb_callback(), early_stopping(30), log_evaluation(30)], \n",
    ")"
   ]
  },
  {
   "cell_type": "code",
   "execution_count": 12,
   "metadata": {},
   "outputs": [],
   "source": [
    "test_pred = model.predict(df_test, num_iteration=model.best_iteration)\n",
    "sub_df.iloc[:, 1:] = test_pred\n",
    "sub_df.to_csv('./output/exp6_submission.csv', index=False)"
   ]
  },
  {
   "cell_type": "code",
   "execution_count": null,
   "metadata": {},
   "outputs": [],
   "source": []
  }
 ],
 "metadata": {
  "interpreter": {
   "hash": "949777d72b0d2535278d3dc13498b2535136f6dfe0678499012e853ee9abcab1"
  },
  "kernelspec": {
   "display_name": "Python 3.8.12 64-bit",
   "language": "python",
   "name": "python3"
  },
  "language_info": {
   "codemirror_mode": {
    "name": "ipython",
    "version": 3
   },
   "file_extension": ".py",
   "mimetype": "text/x-python",
   "name": "python",
   "nbconvert_exporter": "python",
   "pygments_lexer": "ipython3",
   "version": "3.8.12"
  },
  "orig_nbformat": 4
 },
 "nbformat": 4,
 "nbformat_minor": 2
}
