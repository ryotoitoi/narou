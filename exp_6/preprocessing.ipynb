{
 "cells": [
  {
   "cell_type": "code",
   "execution_count": 4,
   "metadata": {},
   "outputs": [
    {
     "name": "stdout",
     "output_type": "stream",
     "text": [
      "24.9669189453125\n"
     ]
    }
   ],
   "source": [
    "import os\n",
    "\n",
    "print(os.path.getsize(\"/workspaces/narou/npy/test_keyword_roberta.npy\")/(1024*1024))"
   ]
  },
  {
   "cell_type": "code",
   "execution_count": 1,
   "metadata": {},
   "outputs": [],
   "source": [
    "# lightgbmを試す。\n",
    "import pandas as pd\n",
    "import numpy as np\n",
    "import re\n",
    "from glob import glob\n",
    "from tqdm import tqdm\n",
    "import datetime\n",
    "\n",
    "from sklearn.model_selection import train_test_split\n",
    "from sklearn.model_selection import RepeatedKFold\n",
    "from tqdm.notebook import tqdm\n",
    "import sys \n",
    "tqdm.pandas()"
   ]
  },
  {
   "cell_type": "markdown",
   "metadata": {},
   "source": [
    "### dataのロード"
   ]
  },
  {
   "cell_type": "code",
   "execution_count": 2,
   "metadata": {},
   "outputs": [],
   "source": [
    "df_train = pd.read_csv('../data/train.csv')\n",
    "df_test = pd.read_csv('../data/test.csv')\n",
    "sub_df = pd.read_csv('../data/sample_submission.csv')"
   ]
  },
  {
   "cell_type": "markdown",
   "metadata": {},
   "source": [
    "### ncodeを数値に置き換える"
   ]
  },
  {
   "cell_type": "code",
   "execution_count": 3,
   "metadata": {},
   "outputs": [],
   "source": [
    "def processing_ncode(input_df: pd.DataFrame):\n",
    "    output_df = input_df.copy()\n",
    "    \n",
    "    num_dict = {chr(i): i-65 for i in range(65, 91)}\n",
    "    def _processing(x, num_dict=num_dict):\n",
    "        y = 0\n",
    "        for i, c in enumerate(x[::-1]):\n",
    "            num = num_dict[c]\n",
    "            y += 26**i * num\n",
    "        y *= 9999\n",
    "        return y\n",
    "    \n",
    "    tmp_df = pd.DataFrame()\n",
    "    tmp_df['_ncode_num'] = input_df['ncode'].map(lambda x: x[1:5]).astype(int)\n",
    "    tmp_df['_ncode_chr'] = input_df['ncode'].map(lambda x: x[5:])\n",
    "    tmp_df['_ncode_chr2num'] = tmp_df['_ncode_chr'].map(lambda x: _processing(x))\n",
    "    \n",
    "    output_df['ncode_num'] = tmp_df['_ncode_num'] + tmp_df['_ncode_chr2num']\n",
    "    return output_df\n",
    "\n",
    "df_train = processing_ncode(df_train)\n",
    "df_test = processing_ncode(df_test)\n",
    "\n",
    "df_train_num = df_train.select_dtypes(\"int\")\n",
    "df_test_num = df_test.select_dtypes(\"int\")\n"
   ]
  },
  {
   "cell_type": "code",
   "execution_count": 4,
   "metadata": {},
   "outputs": [
    {
     "name": "stdout",
     "output_type": "stream",
     "text": [
      "download .npy file\n"
     ]
    }
   ],
   "source": [
    "print(\"download .npy file\")\n",
    "train_title = np.load(\"../npy/train_title_roberta.npy\")\n",
    "train_story = np.load(\"../npy/train_story_roberta.npy\")\n",
    "\n",
    "test_title = np.load(\"../npy/test_title_roberta.npy\")\n",
    "test_story = np.load(\"../npy/test_story_roberta.npy\")"
   ]
  },
  {
   "cell_type": "code",
   "execution_count": 5,
   "metadata": {},
   "outputs": [
    {
     "data": {
      "application/vnd.jupyter.widget-view+json": {
       "model_id": "62b14184193544378f4a903e69bbd388",
       "version_major": 2,
       "version_minor": 0
      },
      "text/plain": [
       "  0%|          | 0/768 [00:00<?, ?it/s]"
      ]
     },
     "metadata": {},
     "output_type": "display_data"
    },
    {
     "data": {
      "application/vnd.jupyter.widget-view+json": {
       "model_id": "64524a1bd05848e9a52752ba77036ee9",
       "version_major": 2,
       "version_minor": 0
      },
      "text/plain": [
       "  0%|          | 0/768 [00:00<?, ?it/s]"
      ]
     },
     "metadata": {},
     "output_type": "display_data"
    }
   ],
   "source": [
    "## RoBERTaでベクトル化したやつを主成分分析をする\n",
    "# 行列の標準化\n",
    "title = np.concatenate([train_title, test_title])\n",
    "story = np.concatenate([train_story, test_story])\n",
    "\n",
    "title = pd.DataFrame(title).progress_apply(lambda x: (x-x.mean())/x.std(), axis=0)\n",
    "story = pd.DataFrame(story).progress_apply(lambda x: (x-x.mean())/x.std(), axis=0)\n",
    "\n",
    "train_title = title[:40000]\n",
    "train_story = story[:40000]\n",
    "\n",
    "test_title = title[40000:]\n",
    "test_story = story[40000:]\n",
    "\n",
    "train_title_df = pd.DataFrame(train_title)\n",
    "train_story_df = pd.DataFrame(train_story)\n",
    "test_title_df = pd.DataFrame(test_title)\n",
    "test_story_df = pd.DataFrame(test_story)\n",
    "\n",
    "for col_name in train_title_df.columns:\n",
    "    train_title_df = train_title_df.rename(columns = {col_name:f\"title_{col_name}\"})\n",
    "for col_name in train_story_df.columns:\n",
    "    train_story_df = train_story_df.rename(columns = {col_name:f\"story_{col_name}\"})\n",
    "for col_name in test_title_df.columns:\n",
    "    test_title_df = test_title_df.rename(columns = {col_name:f\"title_{col_name}\"})\n",
    "for col_name in test_story_df.columns:\n",
    "    test_story_df = test_story_df.rename(columns = {col_name:f\"story_{col_name}\"})\n"
   ]
  },
  {
   "cell_type": "markdown",
   "metadata": {},
   "source": [
    "### Universal Sentence Encoderのロード"
   ]
  },
  {
   "cell_type": "code",
   "execution_count": 6,
   "metadata": {},
   "outputs": [
    {
     "data": {
      "application/vnd.jupyter.widget-view+json": {
       "model_id": "8423bbf4cea2410498c609b46c48a4f4",
       "version_major": 2,
       "version_minor": 0
      },
      "text/plain": [
       "  0%|          | 0/512 [00:00<?, ?it/s]"
      ]
     },
     "metadata": {},
     "output_type": "display_data"
    }
   ],
   "source": [
    "train_title_univ = np.load(\"../npy/train_title_universal.npy\")\n",
    "test_title_univ = np.load(\"../npy/test_title_universal.npy\")\n",
    "title_univ = np.concatenate([train_title_univ, test_title_univ])\n",
    "title_univ = pd.DataFrame(title_univ).progress_apply(lambda x: (x-x.mean())/x.std(), axis=0)\n",
    "train_title_univ = title_univ[:40000]\n",
    "test_title_univ = title_univ[40000:]\n",
    "train_title_univ_df = pd.DataFrame(train_title_univ)\n",
    "test_title_univ_df = pd.DataFrame(test_title_univ)"
   ]
  },
  {
   "cell_type": "code",
   "execution_count": 7,
   "metadata": {},
   "outputs": [
    {
     "name": "stdout",
     "output_type": "stream",
     "text": [
      "(28837, 2063)\n"
     ]
    }
   ],
   "source": [
    "## dfをまとめる\n",
    "df_train = pd.concat([df_train_num, train_title_df, train_title_univ_df, train_story_df, df_train[[\"general_firstup\"]]], axis=1)\n",
    "df_test = pd.concat([df_test_num, test_title_df, test_title_univ_df, test_story_df], axis=1)\n",
    "## 学習データの期間を変更してみる\n",
    "df_train[\"datetime\"] = df_train['general_firstup'].apply(lambda x: datetime.datetime.strptime(x, '%Y-%m-%d %H:%M:%S').date())\n",
    "df_train = df_train[df_train[\"datetime\"] > datetime.date(2020,1,1)].drop(columns=[\"datetime\", \"general_firstup\"])\n",
    "print(df_train.shape)"
   ]
  },
  {
   "cell_type": "markdown",
   "metadata": {},
   "source": [
    "## 作成したデータを保存する"
   ]
  },
  {
   "cell_type": "code",
   "execution_count": 8,
   "metadata": {},
   "outputs": [
    {
     "name": "stdout",
     "output_type": "stream",
     "text": [
      "(28837, 2063)\n",
      "(17044, 2062)\n"
     ]
    }
   ],
   "source": [
    "\n",
    "import os\n",
    "os.makedirs(\"./data\", exist_ok=True)\n",
    "\n",
    "print(df_train.shape)\n",
    "print(df_test.shape)\n",
    "\n",
    "df_train.to_pickle(\"./data/train.pkl\")\n",
    "df_test.to_pickle(\"./data/test.pkl\")\n"
   ]
  },
  {
   "cell_type": "code",
   "execution_count": null,
   "metadata": {},
   "outputs": [],
   "source": []
  }
 ],
 "metadata": {
  "interpreter": {
   "hash": "949777d72b0d2535278d3dc13498b2535136f6dfe0678499012e853ee9abcab1"
  },
  "kernelspec": {
   "display_name": "Python 3.8.12 64-bit",
   "language": "python",
   "name": "python3"
  },
  "language_info": {
   "codemirror_mode": {
    "name": "ipython",
    "version": 3
   },
   "file_extension": ".py",
   "mimetype": "text/x-python",
   "name": "python",
   "nbconvert_exporter": "python",
   "pygments_lexer": "ipython3",
   "version": "3.8.12"
  },
  "orig_nbformat": 4
 },
 "nbformat": 4,
 "nbformat_minor": 2
}
