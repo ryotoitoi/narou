{
 "cells": [
  {
   "cell_type": "code",
   "execution_count": 7,
   "metadata": {},
   "outputs": [
    {
     "name": "stdout",
     "output_type": "stream",
     "text": [
      "TRAIN: [    0     1     2 ... 39995 39996 39999] TEST: [   19    36    57 ... 39993 39997 39998]\n",
      "TRAIN: [    0     1     2 ... 39997 39998 39999] TEST: [    3     6    10 ... 39986 39987 39990]\n",
      "TRAIN: [    0     2     3 ... 39995 39997 39998] TEST: [    1     9    18 ... 39994 39996 39999]\n",
      "TRAIN: [    0     1     2 ... 39997 39998 39999] TEST: [   11    16    23 ... 39981 39989 39995]\n",
      "TRAIN: [    1     3     6 ... 39997 39998 39999] TEST: [    0     2     4 ... 39982 39984 39988]\n"
     ]
    }
   ],
   "source": [
    "import pandas as pd\n",
    "from sklearn.model_selection import StratifiedKFold\n",
    "df = pd.read_csv(\"../data/train.csv\")\n",
    "X = df.drop(columns = \"fav_novel_cnt_bin\")\n",
    "y = df[[\"fav_novel_cnt_bin\"]]\n",
    "skf = StratifiedKFold(n_splits=5, shuffle=True, random_state=42)\n",
    "\n",
    "for train_index, test_index in skf.split(X, y):\n",
    "    # print(i)\n",
    "    print(\"TRAIN:\", train_index, \"TEST:\", test_index)\n",
    "    X_train, X_test = X.iloc[train_index, :], X.iloc[test_index, :]\n",
    "    y_train, y_test = y.iloc[train_index, :], y.iloc[test_index, :]"
   ]
  },
  {
   "cell_type": "code",
   "execution_count": 20,
   "metadata": {},
   "outputs": [],
   "source": []
  },
  {
   "cell_type": "code",
   "execution_count": 31,
   "metadata": {},
   "outputs": [],
   "source": [
    "df_0 = pd.read_csv(\"./output/exp_7_fold0.csv\")\n",
    "df_1 = pd.read_csv(\"./output/exp_7_fold1.csv\")\n",
    "df_2 = pd.read_csv(\"./output/exp_7_fold2.csv\")\n",
    "df_3 = pd.read_csv(\"./output/exp_7_fold3.csv\")\n",
    "df_4 = pd.read_csv(\"./output/exp_7_fold4.csv\")\n",
    "pd.concat([df_0 , df_1, df_2, df_3, df_4]).groupby(\"ncode\").mean().reset_index().to_csv(\"./output/sub.csv\", index=False)"
   ]
  },
  {
   "cell_type": "code",
   "execution_count": 27,
   "metadata": {},
   "outputs": [],
   "source": [
    "from logging import getLogger\n",
    "logger = getLogger(__name__)\n",
    "logger.info('message')"
   ]
  },
  {
   "cell_type": "code",
   "execution_count": 28,
   "metadata": {},
   "outputs": [],
   "source": [
    "test1 = '値1'\n",
    "test2 = '値2'\n",
    "logger.info('変数:{}'.format(test1))\n",
    "logger.info('変数:{0}, {1}'.format(test1, test2))"
   ]
  },
  {
   "cell_type": "code",
   "execution_count": null,
   "metadata": {},
   "outputs": [],
   "source": []
  }
 ],
 "metadata": {
  "interpreter": {
   "hash": "949777d72b0d2535278d3dc13498b2535136f6dfe0678499012e853ee9abcab1"
  },
  "kernelspec": {
   "display_name": "Python 3.8.12 64-bit",
   "language": "python",
   "name": "python3"
  },
  "language_info": {
   "codemirror_mode": {
    "name": "ipython",
    "version": 3
   },
   "file_extension": ".py",
   "mimetype": "text/x-python",
   "name": "python",
   "nbconvert_exporter": "python",
   "pygments_lexer": "ipython3",
   "version": "3.8.12"
  },
  "orig_nbformat": 4
 },
 "nbformat": 4,
 "nbformat_minor": 2
}
