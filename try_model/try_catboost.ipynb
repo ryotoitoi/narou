{
 "cells": [
  {
   "cell_type": "code",
   "execution_count": 4,
   "metadata": {},
   "outputs": [],
   "source": [
    "import pandas as pd\n",
    "from sklearn.model_selection import train_test_split\n",
    "train = pd.read_csv(\"../data/train.csv\")\n",
    "test = pd.read_csv(\"../data/test.csv\")\n",
    "\n",
    "\n",
    "train_num = train.select_dtypes(\"int\")\n",
    "test_num = test.select_dtypes(\"int\")\n",
    "X = train_num.drop(columns=\"fav_novel_cnt_bin\")\n",
    "y = train_num[[\"fav_novel_cnt_bin\"]]\n",
    "X_train, X_test, y_train, y_test = train_test_split(X, y, test_size=0.2, random_state=0)"
   ]
  },
  {
   "cell_type": "code",
   "execution_count": 5,
   "metadata": {},
   "outputs": [
    {
     "name": "stdout",
     "output_type": "stream",
     "text": [
      "\u001b[31mERROR: Could not find a version that satisfies the requirement catboost (from versions: none)\u001b[0m\n",
      "\u001b[31mERROR: No matching distribution found for catboost\u001b[0m\n"
     ]
    }
   ],
   "source": [
    "!pip install -q catboost"
   ]
  },
  {
   "cell_type": "code",
   "execution_count": 18,
   "metadata": {},
   "outputs": [
    {
     "data": {
      "text/plain": [
       "array([  0,   1,   2,   3,   4,   5,   6,   7,   8,   9,  10,  11,  12,\n",
       "        13,  14, 195, 199, 203, 204, 205, 206, 207, 208])"
      ]
     },
     "execution_count": 18,
     "metadata": {},
     "output_type": "execute_result"
    }
   ],
   "source": [
    "import numpy as np\n",
    "X = pd.read_pickle(\"../exp_12/data/train.pkl\")\n",
    "categorical_features_indices = np.where((X.dtypes != np.float32) & (X.dtypes != np.float64))[0]\n",
    "categorical_features_indices"
   ]
  },
  {
   "cell_type": "code",
   "execution_count": 14,
   "metadata": {},
   "outputs": [
    {
     "name": "stdout",
     "output_type": "stream",
     "text": [
      "<class 'pandas.core.frame.DataFrame'>\n",
      "Int64Index: 22170 entries, 17830 to 39999\n",
      "Columns: 209 entries, userid to genre_ce\n",
      "dtypes: float32(180), float64(6), int64(23)\n",
      "memory usage: 20.3 MB\n"
     ]
    }
   ],
   "source": [
    "X.info()"
   ]
  },
  {
   "cell_type": "code",
   "execution_count": null,
   "metadata": {},
   "outputs": [],
   "source": [
    "from catboost import Pool\n",
    "import numpy as np\n",
    "\n",
    "# カテゴリのカラムのみを抽出\n",
    "categorical_features_indices = np.where(X.dtypes != np.float)[0]\n",
    "\n",
    "# データセットの作成。Poolで説明変数、目的変数、\n",
    "# カラムのデータ型を指定できる\n",
    "train_pool = Pool(X_train, y_train, cat_features=categorical_features_indices)\n",
    "validate_pool = Pool(X_test, y_test, cat_features=categorical_features_indices)\n",
    "\n",
    "from catboost import CatBoostClassifier\n",
    "\n",
    "params = {\n",
    "    'loss_function':'MultiClass'\n",
    "    'depth' : 6,                  # 木の深さ\n",
    "    'learning_rate' : 0.05,       # 学習率\n",
    "    'early_stopping_rounds' : 10,\n",
    "    'iterations' : 200, \n",
    "    'custom_loss' :['Accuracy'], \n",
    "    'random_seed' :42\n",
    "}\n",
    "# パラメータを指定した場合は、以下のようにインスタンスに適用させる\n",
    "model = CatBoostClassifier(**params)\n",
    "model.fit(train_pool, eval_set=validate_pool)"
   ]
  }
 ],
 "metadata": {
  "interpreter": {
   "hash": "949777d72b0d2535278d3dc13498b2535136f6dfe0678499012e853ee9abcab1"
  },
  "kernelspec": {
   "display_name": "Python 3.8.12 64-bit",
   "language": "python",
   "name": "python3"
  },
  "language_info": {
   "codemirror_mode": {
    "name": "ipython",
    "version": 3
   },
   "file_extension": ".py",
   "mimetype": "text/x-python",
   "name": "python",
   "nbconvert_exporter": "python",
   "pygments_lexer": "ipython3",
   "version": "3.8.12"
  },
  "orig_nbformat": 4
 },
 "nbformat": 4,
 "nbformat_minor": 2
}
